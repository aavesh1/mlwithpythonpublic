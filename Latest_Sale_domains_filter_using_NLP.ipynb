{
  "nbformat": 4,
  "nbformat_minor": 0,
  "metadata": {
    "colab": {
      "name": "Latest Sale domains filter using NLP.ipynb",
      "provenance": [],
      "collapsed_sections": [],
      "toc_visible": true,
      "machine_shape": "hm",
      "include_colab_link": true
    },
    "kernelspec": {
      "name": "python3",
      "display_name": "Python 3"
    },
    "accelerator": "GPU"
  },
  "cells": [
    {
      "cell_type": "markdown",
      "metadata": {
        "id": "view-in-github",
        "colab_type": "text"
      },
      "source": [
        "<a href=\"https://colab.research.google.com/github/aavesh1/mlwithpythonpublic/blob/master/Latest_Sale_domains_filter_using_NLP.ipynb\" target=\"_parent\"><img src=\"https://colab.research.google.com/assets/colab-badge.svg\" alt=\"Open In Colab\"/></a>"
      ]
    },
    {
      "cell_type": "markdown",
      "metadata": {
        "id": "F2jATm1vOuIL"
      },
      "source": [
        "#Sale Domains Classifier\n"
      ]
    },
    {
      "cell_type": "markdown",
      "metadata": {
        "id": "gl2owiMoOmJd"
      },
      "source": [
        "## Loading Dataset"
      ]
    },
    {
      "cell_type": "code",
      "metadata": {
        "id": "zvncDQV_NOzX",
        "colab": {
          "base_uri": "https://localhost:8080/",
          "height": 204
        },
        "outputId": "39b6a11d-5ae0-4b81-b3fa-64db860f2c78"
      },
      "source": [
        "import pandas as pd\n",
        "#df = pd.read_table('SMSSpamCollection', sep='\\t', header=None, names=['label', 'sms_message'])\n",
        "df = pd.read_csv('Traindata.csv')\n",
        "df.head()"
      ],
      "execution_count": 9,
      "outputs": [
        {
          "output_type": "execute_result",
          "data": {
            "text/html": [
              "<div>\n",
              "<style scoped>\n",
              "    .dataframe tbody tr th:only-of-type {\n",
              "        vertical-align: middle;\n",
              "    }\n",
              "\n",
              "    .dataframe tbody tr th {\n",
              "        vertical-align: top;\n",
              "    }\n",
              "\n",
              "    .dataframe thead th {\n",
              "        text-align: right;\n",
              "    }\n",
              "</style>\n",
              "<table border=\"1\" class=\"dataframe\">\n",
              "  <thead>\n",
              "    <tr style=\"text-align: right;\">\n",
              "      <th></th>\n",
              "      <th>cleaned</th>\n",
              "      <th>category</th>\n",
              "    </tr>\n",
              "  </thead>\n",
              "  <tbody>\n",
              "    <tr>\n",
              "      <th>0</th>\n",
              "      <td>systemicperspectives co uk Systemic Perspectiv...</td>\n",
              "      <td>legit</td>\n",
              "    </tr>\n",
              "    <tr>\n",
              "      <th>1</th>\n",
              "      <td>stevenrogerswoodflooring co uk Wooden Floor In...</td>\n",
              "      <td>legit</td>\n",
              "    </tr>\n",
              "    <tr>\n",
              "      <th>2</th>\n",
              "      <td>the bushcraft show co uk Domain name registrat...</td>\n",
              "      <td>legit</td>\n",
              "    </tr>\n",
              "    <tr>\n",
              "      <th>3</th>\n",
              "      <td>sportschancer co uk Want your own website 123 ...</td>\n",
              "      <td>sale</td>\n",
              "    </tr>\n",
              "    <tr>\n",
              "      <th>4</th>\n",
              "      <td>taxiswatchet uk 01984 639 141 Watchet Taxi and...</td>\n",
              "      <td>legit</td>\n",
              "    </tr>\n",
              "  </tbody>\n",
              "</table>\n",
              "</div>"
            ],
            "text/plain": [
              "                                             cleaned category\n",
              "0  systemicperspectives co uk Systemic Perspectiv...    legit\n",
              "1  stevenrogerswoodflooring co uk Wooden Floor In...    legit\n",
              "2  the bushcraft show co uk Domain name registrat...    legit\n",
              "3  sportschancer co uk Want your own website 123 ...     sale\n",
              "4  taxiswatchet uk 01984 639 141 Watchet Taxi and...    legit"
            ]
          },
          "metadata": {
            "tags": []
          },
          "execution_count": 9
        }
      ]
    },
    {
      "cell_type": "code",
      "metadata": {
        "id": "Qt5sPV-2Nilf",
        "colab": {
          "base_uri": "https://localhost:8080/",
          "height": 221
        },
        "outputId": "666bb711-cc47-4be5-c87e-3fc2a65cb9ff"
      },
      "source": [
        "df['category'] = df.category.map({'legit' : 0, 'sale' : 1})\n",
        "print(df.shape)\n",
        "df.head()\n"
      ],
      "execution_count": 10,
      "outputs": [
        {
          "output_type": "stream",
          "text": [
            "(14621, 2)\n"
          ],
          "name": "stdout"
        },
        {
          "output_type": "execute_result",
          "data": {
            "text/html": [
              "<div>\n",
              "<style scoped>\n",
              "    .dataframe tbody tr th:only-of-type {\n",
              "        vertical-align: middle;\n",
              "    }\n",
              "\n",
              "    .dataframe tbody tr th {\n",
              "        vertical-align: top;\n",
              "    }\n",
              "\n",
              "    .dataframe thead th {\n",
              "        text-align: right;\n",
              "    }\n",
              "</style>\n",
              "<table border=\"1\" class=\"dataframe\">\n",
              "  <thead>\n",
              "    <tr style=\"text-align: right;\">\n",
              "      <th></th>\n",
              "      <th>cleaned</th>\n",
              "      <th>category</th>\n",
              "    </tr>\n",
              "  </thead>\n",
              "  <tbody>\n",
              "    <tr>\n",
              "      <th>0</th>\n",
              "      <td>systemicperspectives co uk Systemic Perspectiv...</td>\n",
              "      <td>0</td>\n",
              "    </tr>\n",
              "    <tr>\n",
              "      <th>1</th>\n",
              "      <td>stevenrogerswoodflooring co uk Wooden Floor In...</td>\n",
              "      <td>0</td>\n",
              "    </tr>\n",
              "    <tr>\n",
              "      <th>2</th>\n",
              "      <td>the bushcraft show co uk Domain name registrat...</td>\n",
              "      <td>0</td>\n",
              "    </tr>\n",
              "    <tr>\n",
              "      <th>3</th>\n",
              "      <td>sportschancer co uk Want your own website 123 ...</td>\n",
              "      <td>1</td>\n",
              "    </tr>\n",
              "    <tr>\n",
              "      <th>4</th>\n",
              "      <td>taxiswatchet uk 01984 639 141 Watchet Taxi and...</td>\n",
              "      <td>0</td>\n",
              "    </tr>\n",
              "  </tbody>\n",
              "</table>\n",
              "</div>"
            ],
            "text/plain": [
              "                                             cleaned  category\n",
              "0  systemicperspectives co uk Systemic Perspectiv...         0\n",
              "1  stevenrogerswoodflooring co uk Wooden Floor In...         0\n",
              "2  the bushcraft show co uk Domain name registrat...         0\n",
              "3  sportschancer co uk Want your own website 123 ...         1\n",
              "4  taxiswatchet uk 01984 639 141 Watchet Taxi and...         0"
            ]
          },
          "metadata": {
            "tags": []
          },
          "execution_count": 10
        }
      ]
    },
    {
      "cell_type": "markdown",
      "metadata": {
        "id": "V4Nvc1y0OWxR"
      },
      "source": [
        "## **Data Preprocessing**"
      ]
    },
    {
      "cell_type": "code",
      "metadata": {
        "id": "UVjr_P4qOZ6X",
        "colab": {
          "base_uri": "https://localhost:8080/"
        },
        "outputId": "94fe955f-564b-4050-8172-0f4d24af489e"
      },
      "source": [
        "from sklearn.model_selection import train_test_split\n",
        "\n",
        "X_train, X_test, y_train, y_test = train_test_split(df['cleaned'], df['category'], random_state=1)\n",
        "\n",
        "print('Number of rows in the total set: {}'.format(df.shape[0]))\n",
        "print('Number of rows in the training set: {}'.format(X_train.shape[0]))\n",
        "print('Number of rows in the test set: {}'.format(X_test.shape[0]))"
      ],
      "execution_count": 11,
      "outputs": [
        {
          "output_type": "stream",
          "text": [
            "Number of rows in the total set: 14621\n",
            "Number of rows in the training set: 10965\n",
            "Number of rows in the test set: 3656\n"
          ],
          "name": "stdout"
        }
      ]
    },
    {
      "cell_type": "markdown",
      "metadata": {
        "id": "96rb7rm0Py5e"
      },
      "source": [
        "### Applying Bag Of Words "
      ]
    },
    {
      "cell_type": "code",
      "metadata": {
        "id": "yaQ33O45Pv8w",
        "colab": {
          "base_uri": "https://localhost:8080/"
        },
        "outputId": "225a1496-2c7a-4ca7-a538-1e6be9995038"
      },
      "source": [
        "from sklearn.feature_extraction.text import CountVectorizer\n",
        "count_vector = CountVectorizer()\n",
        "print(count_vector)"
      ],
      "execution_count": 12,
      "outputs": [
        {
          "output_type": "stream",
          "text": [
            "CountVectorizer(analyzer='word', binary=False, decode_error='strict',\n",
            "                dtype=<class 'numpy.int64'>, encoding='utf-8', input='content',\n",
            "                lowercase=True, max_df=1.0, max_features=None, min_df=1,\n",
            "                ngram_range=(1, 1), preprocessor=None, stop_words=None,\n",
            "                strip_accents=None, token_pattern='(?u)\\\\b\\\\w\\\\w+\\\\b',\n",
            "                tokenizer=None, vocabulary=None)\n"
          ],
          "name": "stdout"
        }
      ]
    },
    {
      "cell_type": "code",
      "metadata": {
        "id": "70xo7-jJQPST"
      },
      "source": [
        "training_data = count_vector.fit_transform(X_train)\n",
        "testing_data = count_vector.transform(X_test)"
      ],
      "execution_count": 13,
      "outputs": []
    },
    {
      "cell_type": "markdown",
      "metadata": {
        "id": "uzfIA68s7fuv"
      },
      "source": [
        "## Multinomial Naive Bayes Classifier"
      ]
    },
    {
      "cell_type": "code",
      "metadata": {
        "id": "Ey0du51GQsQE",
        "colab": {
          "base_uri": "https://localhost:8080/"
        },
        "outputId": "8aae88c8-fb72-4a58-aa93-e14379ab7ab9"
      },
      "source": [
        "from sklearn.naive_bayes import MultinomialNB\n",
        "naive_bayes = MultinomialNB()\n",
        "naive_bayes.fit(training_data, y_train)"
      ],
      "execution_count": 14,
      "outputs": [
        {
          "output_type": "execute_result",
          "data": {
            "text/plain": [
              "MultinomialNB(alpha=1.0, class_prior=None, fit_prior=True)"
            ]
          },
          "metadata": {
            "tags": []
          },
          "execution_count": 14
        }
      ]
    },
    {
      "cell_type": "code",
      "metadata": {
        "id": "etODSpKP7pAF"
      },
      "source": [
        "predictions = naive_bayes.predict(testing_data)"
      ],
      "execution_count": 15,
      "outputs": []
    },
    {
      "cell_type": "code",
      "metadata": {
        "id": "SyBajKHC8JM6",
        "colab": {
          "base_uri": "https://localhost:8080/"
        },
        "outputId": "0eb9fa60-60eb-48ce-c62c-6bce46b53ebd"
      },
      "source": [
        "from sklearn.metrics import accuracy_score, precision_score, recall_score, f1_score\n",
        "\n",
        "print('Accuracy score: ', format(accuracy_score(y_test, predictions)))\n",
        "print('Precision score: ', format(precision_score(y_test, predictions)))\n",
        "print('Recall score: ', format(recall_score(y_test, predictions)))\n",
        "print('F1 score: ', format(f1_score(y_test, predictions)))"
      ],
      "execution_count": 16,
      "outputs": [
        {
          "output_type": "stream",
          "text": [
            "Accuracy score:  0.962800875273523\n",
            "Precision score:  0.9404077365394669\n",
            "Recall score:  0.9879187259747392\n",
            "F1 score:  0.9635779325120515\n"
          ],
          "name": "stdout"
        }
      ]
    },
    {
      "cell_type": "markdown",
      "metadata": {
        "id": "GYwokIkbguSj"
      },
      "source": [
        "# Working on Output\n",
        "\n"
      ]
    },
    {
      "cell_type": "code",
      "metadata": {
        "id": "xBre36s48arz"
      },
      "source": [
        "dftest = pd.read_csv('testdata.csv')"
      ],
      "execution_count": 19,
      "outputs": []
    },
    {
      "cell_type": "code",
      "metadata": {
        "colab": {
          "base_uri": "https://localhost:8080/",
          "height": 204
        },
        "id": "-8VH9Yj1DDd2",
        "outputId": "39fbd9f4-6547-42df-a086-b5de59a4286f"
      },
      "source": [
        "dftest.head()"
      ],
      "execution_count": 20,
      "outputs": [
        {
          "output_type": "execute_result",
          "data": {
            "text/html": [
              "<div>\n",
              "<style scoped>\n",
              "    .dataframe tbody tr th:only-of-type {\n",
              "        vertical-align: middle;\n",
              "    }\n",
              "\n",
              "    .dataframe tbody tr th {\n",
              "        vertical-align: top;\n",
              "    }\n",
              "\n",
              "    .dataframe thead th {\n",
              "        text-align: right;\n",
              "    }\n",
              "</style>\n",
              "<table border=\"1\" class=\"dataframe\">\n",
              "  <thead>\n",
              "    <tr style=\"text-align: right;\">\n",
              "      <th></th>\n",
              "      <th>test</th>\n",
              "      <th>category</th>\n",
              "    </tr>\n",
              "  </thead>\n",
              "  <tbody>\n",
              "    <tr>\n",
              "      <th>0</th>\n",
              "      <td>minipay co uk The domain name MiniPay co uk is...</td>\n",
              "      <td>sale</td>\n",
              "    </tr>\n",
              "    <tr>\n",
              "      <th>1</th>\n",
              "      <td>mobileworker co uk The domain name MobileWorke...</td>\n",
              "      <td>sale</td>\n",
              "    </tr>\n",
              "    <tr>\n",
              "      <th>2</th>\n",
              "      <td>middlepathwingchun co uk Want your own website...</td>\n",
              "      <td>sale</td>\n",
              "    </tr>\n",
              "    <tr>\n",
              "      <th>3</th>\n",
              "      <td>mobilepolicymanager co uk Want your own websit...</td>\n",
              "      <td>sale</td>\n",
              "    </tr>\n",
              "    <tr>\n",
              "      <th>4</th>\n",
              "      <td>movetru co uk Want your own website 123 Reg Ge...</td>\n",
              "      <td>sale</td>\n",
              "    </tr>\n",
              "  </tbody>\n",
              "</table>\n",
              "</div>"
            ],
            "text/plain": [
              "                                                test category\n",
              "0  minipay co uk The domain name MiniPay co uk is...     sale\n",
              "1  mobileworker co uk The domain name MobileWorke...     sale\n",
              "2  middlepathwingchun co uk Want your own website...     sale\n",
              "3  mobilepolicymanager co uk Want your own websit...     sale\n",
              "4  movetru co uk Want your own website 123 Reg Ge...     sale"
            ]
          },
          "metadata": {
            "tags": []
          },
          "execution_count": 20
        }
      ]
    },
    {
      "cell_type": "code",
      "metadata": {
        "colab": {
          "base_uri": "https://localhost:8080/"
        },
        "id": "AbecMpNlDFvj",
        "outputId": "31fc6669-2af6-4e27-a922-f16b4c710acc"
      },
      "source": [
        "dftest['category'] = dftest.category.map({'legit' : 0, 'sale' : 1})\n",
        "dftest.head()\n",
        "dftest.info()"
      ],
      "execution_count": 21,
      "outputs": [
        {
          "output_type": "stream",
          "text": [
            "<class 'pandas.core.frame.DataFrame'>\n",
            "RangeIndex: 7231 entries, 0 to 7230\n",
            "Data columns (total 2 columns):\n",
            " #   Column    Non-Null Count  Dtype \n",
            "---  ------    --------------  ----- \n",
            " 0   test      7231 non-null   object\n",
            " 1   category  7231 non-null   int64 \n",
            "dtypes: int64(1), object(1)\n",
            "memory usage: 113.1+ KB\n"
          ],
          "name": "stdout"
        }
      ]
    },
    {
      "cell_type": "code",
      "metadata": {
        "id": "BmBZEE5EDJsi"
      },
      "source": [
        "finalpreddata = count_vector.transform(dftest['test'])"
      ],
      "execution_count": 22,
      "outputs": []
    },
    {
      "cell_type": "code",
      "metadata": {
        "id": "Dz5L4p4uDMR8"
      },
      "source": [
        "op = naive_bayes.predict(finalpreddata)"
      ],
      "execution_count": 23,
      "outputs": []
    },
    {
      "cell_type": "code",
      "metadata": {
        "colab": {
          "base_uri": "https://localhost:8080/"
        },
        "id": "2YIZhNO5DUqy",
        "outputId": "63d650bf-df06-464c-9cc0-edbdbfa9e3b1"
      },
      "source": [
        "print(len(op))\n",
        "oplist = list(op)"
      ],
      "execution_count": 24,
      "outputs": [
        {
          "output_type": "stream",
          "text": [
            "7231\n"
          ],
          "name": "stdout"
        }
      ]
    },
    {
      "cell_type": "code",
      "metadata": {
        "colab": {
          "base_uri": "https://localhost:8080/"
        },
        "id": "EzUzoDnYDVfR",
        "outputId": "6792ac5f-40b1-4523-937f-998a4f41333c"
      },
      "source": [
        "checker = dftest['category']\n",
        "print(len(checker))"
      ],
      "execution_count": 25,
      "outputs": [
        {
          "output_type": "stream",
          "text": [
            "7231\n"
          ],
          "name": "stdout"
        }
      ]
    },
    {
      "cell_type": "code",
      "metadata": {
        "colab": {
          "base_uri": "https://localhost:8080/"
        },
        "id": "P6kQ73dnD6DF",
        "outputId": "27af1b51-d46e-493d-8592-257cce2e57bb"
      },
      "source": [
        "\n",
        "y_test = checker\n",
        "predictions = op\n",
        "from sklearn.metrics import accuracy_score, precision_score, recall_score, f1_score\n",
        "\n",
        "print('Accuracy score: ', format(accuracy_score(y_test, predictions)))\n",
        "print('Precision score: ', format(precision_score(y_test, predictions)))\n",
        "print('Recall score: ', format(recall_score(y_test, predictions)))\n",
        "print('F1 score: ', format(f1_score(y_test, predictions)))"
      ],
      "execution_count": 26,
      "outputs": [
        {
          "output_type": "stream",
          "text": [
            "Accuracy score:  0.988659936385009\n",
            "Precision score:  0.9953724436483057\n",
            "Recall score:  0.9924095847596368\n",
            "F1 score:  0.9938888060813832\n"
          ],
          "name": "stdout"
        }
      ]
    },
    {
      "cell_type": "code",
      "metadata": {
        "id": "fsbdsvzbEBoj"
      },
      "source": [
        ""
      ],
      "execution_count": null,
      "outputs": []
    }
  ]
}